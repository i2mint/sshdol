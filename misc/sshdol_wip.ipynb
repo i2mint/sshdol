{
 "cells": [
  {
   "cell_type": "code",
   "execution_count": null,
   "metadata": {},
   "outputs": [],
   "source": []
  },
  {
   "cell_type": "code",
   "execution_count": null,
   "metadata": {},
   "outputs": [],
   "source": []
  },
  {
   "cell_type": "markdown",
   "metadata": {},
   "source": [
    "# Building tests"
   ]
  },
  {
   "cell_type": "code",
   "execution_count": null,
   "metadata": {},
   "outputs": [],
   "source": [
    "from sshdol import SshFiles\n",
    "from functools import partial \n",
    "\n",
    "# make a bytes files ssh store\n",
    "s = SshFiles(host=SSH_TEST_HOST, rootdir=SSH_TEST_ROOTDIR)\n",
    "empty_test_store(s)\n",
    "\n",
    "assert list(s) == []  # s is empty\n",
    "\n",
    "s['apple'] = b'crumble'  # make an apple file containing b'crumble'\n",
    "assert 'apple' in s  # apple is now in s\n",
    "assert list(s) == ['apple']  # now, s has only one file, apple\n",
    "assert s['apple'] == b'crumble'  # see that the value of s['apple'] is indeed b'crumble'\n",
    "\n",
    "# make a text files ssh store\n",
    "s = SshFiles(encoding='utf-8', host=SSH_TEST_HOST, rootdir=SSH_TEST_ROOTDIR)\n",
    "\n",
    "s['apple.txt'] = 'sauce'  # make an apple file containing 'sauce'\n",
    "assert 'apple.txt' in s  # apple is now in s\n",
    "assert sorted(s) == ['apple', 'apple.txt']  # now, s has only one file, apple\n",
    "assert s['apple'] == 'sauce'  # see that the value of s['apple'] is indeed 'sauce'"
   ]
  },
  {
   "cell_type": "code",
   "execution_count": 4,
   "metadata": {},
   "outputs": [
    {
     "data": {
      "text/plain": [
       "['apple', 'apple.txt']"
      ]
     },
     "execution_count": 4,
     "metadata": {},
     "output_type": "execute_result"
    }
   ],
   "source": [
    "list(s)"
   ]
  },
  {
   "cell_type": "code",
   "execution_count": 5,
   "metadata": {},
   "outputs": [
    {
     "ename": "TypeError",
     "evalue": "When encoding is set to 'utf-8', value must be a string",
     "output_type": "error",
     "traceback": [
      "\u001b[0;31m---------------------------------------------------------------------------\u001b[0m",
      "\u001b[0;31mTypeError\u001b[0m                                 Traceback (most recent call last)",
      "Cell \u001b[0;32mIn[5], line 1\u001b[0m\n\u001b[0;32m----> 1\u001b[0m \u001b[43ms\u001b[49m\u001b[43m[\u001b[49m\u001b[38;5;124;43m'\u001b[39;49m\u001b[38;5;124;43mapple.text\u001b[39;49m\u001b[38;5;124;43m'\u001b[39;49m\u001b[43m]\u001b[49m \u001b[38;5;241m=\u001b[39m \u001b[38;5;124mb\u001b[39m\u001b[38;5;124m'\u001b[39m\u001b[38;5;124mpie\u001b[39m\u001b[38;5;124m'\u001b[39m\n",
      "File \u001b[0;32m~/Dropbox/py/proj/i/dols/sshdol/sshdol/base.py:256\u001b[0m, in \u001b[0;36mSshFiles.__setitem__\u001b[0;34m(self, k, v)\u001b[0m\n\u001b[1;32m    254\u001b[0m         v \u001b[38;5;241m=\u001b[39m v\u001b[38;5;241m.\u001b[39mencode(\u001b[38;5;28mself\u001b[39m\u001b[38;5;241m.\u001b[39m_encoding)\n\u001b[1;32m    255\u001b[0m     \u001b[38;5;28;01melse\u001b[39;00m:\n\u001b[0;32m--> 256\u001b[0m         \u001b[38;5;28;01mraise\u001b[39;00m \u001b[38;5;167;01mTypeError\u001b[39;00m(\n\u001b[1;32m    257\u001b[0m             \u001b[38;5;124mf\u001b[39m\u001b[38;5;124m\"\u001b[39m\u001b[38;5;124mWhen encoding is set to \u001b[39m\u001b[38;5;124m'\u001b[39m\u001b[38;5;132;01m{\u001b[39;00m\u001b[38;5;28mself\u001b[39m\u001b[38;5;241m.\u001b[39m_encoding\u001b[38;5;132;01m}\u001b[39;00m\u001b[38;5;124m'\u001b[39m\u001b[38;5;124m, value must be a string\u001b[39m\u001b[38;5;124m\"\u001b[39m\n\u001b[1;32m    258\u001b[0m         )\n\u001b[1;32m    259\u001b[0m \u001b[38;5;28;01melse\u001b[39;00m:\n\u001b[1;32m    260\u001b[0m     \u001b[38;5;66;03m# When no encoding is set, user should provide bytes directly\u001b[39;00m\n\u001b[1;32m    261\u001b[0m     \u001b[38;5;28;01mif\u001b[39;00m \u001b[38;5;129;01mnot\u001b[39;00m \u001b[38;5;28misinstance\u001b[39m(v, \u001b[38;5;28mbytes\u001b[39m):\n",
      "\u001b[0;31mTypeError\u001b[0m: When encoding is set to 'utf-8', value must be a string"
     ]
    }
   ],
   "source": [
    "s['apple.text'] = b'pie'"
   ]
  },
  {
   "cell_type": "code",
   "execution_count": null,
   "metadata": {},
   "outputs": [],
   "source": [
    "from sshdol import SshFiles\n",
    "from dol import TextFiles\n",
    "\n",
    "s = SshFiles(host=SSH_TEST_HOST, rootdir=SSH_TEST_ROOTDIR, encoding='utf-8')\n",
    "\n",
    "empty_test_store(s)\n",
    "\n",
    "assert list(s) == []  # s is empty\n",
    "s['apple.txt'] = 'sauce'  # make an apple file containing 'sauce'\n",
    "assert 'apple.txt' in s  # apple is now in s\n",
    "assert sorted(s) == ['apple', 'apple.txt']  # now, s has only one file, apple\n",
    "assert s['apple'] == 'sauce'  # see that the value of s['apple'] is indeed 'sauce'"
   ]
  },
  {
   "cell_type": "code",
   "execution_count": null,
   "metadata": {},
   "outputs": [],
   "source": []
  },
  {
   "cell_type": "code",
   "execution_count": null,
   "metadata": {},
   "outputs": [],
   "source": []
  },
  {
   "cell_type": "code",
   "execution_count": null,
   "metadata": {},
   "outputs": [],
   "source": []
  },
  {
   "cell_type": "markdown",
   "metadata": {},
   "source": [
    "# Getting a bunch of data from a server"
   ]
  },
  {
   "cell_type": "code",
   "execution_count": null,
   "metadata": {},
   "outputs": [],
   "source": [
    "from sshdol import SshFiles\n",
    "\n",
    "s = SshFiles(host=\"thorwhalen\", rootdir=\"/root/.config/mood/news/searches\")\n"
   ]
  },
  {
   "cell_type": "code",
   "execution_count": null,
   "metadata": {},
   "outputs": [
    {
     "data": {
      "text/plain": [
       "['newsdata/', 'yahoo_finance_headlines/', 'yahoo_finance/']"
      ]
     },
     "metadata": {},
     "output_type": "display_data"
    }
   ],
   "source": [
    "list(s)"
   ]
  },
  {
   "cell_type": "code",
   "execution_count": null,
   "metadata": {},
   "outputs": [
    {
     "data": {
      "text/plain": [
       "['2025-03-03/',\n",
       " '2025-03-02/',\n",
       " '2025-02-20/',\n",
       " '2025-03-01/',\n",
       " '2025-02-19/',\n",
       " '2025-02-25/',\n",
       " '2025-03-04/',\n",
       " '2025-03-05/',\n",
       " '2025-03-08/',\n",
       " '2025-03-07/',\n",
       " '2025-03-09/',\n",
       " '2025-03-06/',\n",
       " '2025-02-24/',\n",
       " '2025-02-26/',\n",
       " '2025-02-21/',\n",
       " '2025-02-28/',\n",
       " '2025-02-27/',\n",
       " '2025-03-10/',\n",
       " '2025-02-22/',\n",
       " '2025-02-23/']"
      ]
     },
     "metadata": {},
     "output_type": "display_data"
    }
   ],
   "source": [
    "newsdata = s['newsdata/']\n",
    "list(newsdata)"
   ]
  },
  {
   "cell_type": "code",
   "execution_count": null,
   "metadata": {},
   "outputs": [
    {
     "data": {
      "text/plain": [
       "['misc.ipynb', 'data/', 'py/', 'scripts/']"
      ]
     },
     "metadata": {},
     "output_type": "display_data"
    }
   ],
   "source": [
    "from sshdol import SshFiles\n",
    "\n",
    "s = SshFiles(host=\"thorwhalen\")\n",
    "\n",
    "list(s)"
   ]
  },
  {
   "cell_type": "code",
   "execution_count": null,
   "metadata": {},
   "outputs": [
    {
     "data": {
      "text/plain": [
       "'data'"
      ]
     },
     "metadata": {},
     "output_type": "display_data"
    }
   ],
   "source": [
    "sub_s_under_data_subfolder = s['data/']\n",
    "sub_s_under_data_subfolder._rootdir"
   ]
  },
  {
   "cell_type": "code",
   "execution_count": null,
   "metadata": {},
   "outputs": [
    {
     "data": {
      "text/plain": [
       "['financial_news_search_words.json', 'scoopy/']"
      ]
     },
     "metadata": {},
     "output_type": "display_data"
    }
   ],
   "source": [
    "list(sub_s_under_data_subfolder)"
   ]
  },
  {
   "cell_type": "code",
   "execution_count": null,
   "metadata": {},
   "outputs": [
    {
     "data": {
      "text/plain": [
       "'data/scoopy'"
      ]
     },
     "metadata": {},
     "output_type": "display_data"
    }
   ],
   "source": [
    "another_sub_folder = sub_s_under_data_subfolder['scoopy/']\n",
    "another_sub_folder._rootdir"
   ]
  },
  {
   "cell_type": "code",
   "execution_count": null,
   "metadata": {},
   "outputs": [
    {
     "data": {
      "text/plain": [
       "['2025-02-18--22-37-40__Recession fears.json',\n",
       " '2025-02-18--22-37-26__Interest rates.json',\n",
       " '2025-02-18--22-37-30__Unemployment rate.json',\n",
       " '2025-02-18--22-37-38__Election results.json',\n",
       " '2025-02-18--22-37-44__Risk appetite.json',\n",
       " '2025-02-18--22-37-31__Consumer confidence.json',\n",
       " '2025-02-18--22-37-29__Earnings report.json',\n",
       " '2025-02-18--22-37-36__Trade war.json',\n",
       " '2025-02-18--22-37-38__Brexit.json',\n",
       " '2025-02-18--22-37-27__Inflation.json',\n",
       " '2025-02-18--22-37-41__Black Swan event.json',\n",
       " '2025-02-18--22-37-34__Stock market rally.json',\n",
       " '2025-02-18--22-37-37__Sanctions.json',\n",
       " '2025-02-18--22-37-34__Market correction.json',\n",
       " '2025-02-18--22-30-51__Interest rates.json',\n",
       " '2025-02-18--22-37-40__Market volatility.json',\n",
       " '2025-02-18--22-37-28__Federal Reserve.json',\n",
       " '2025-02-18--22-37-35__Oil prices.json',\n",
       " '2025-02-18--22-37-39__Geopolitical tensions.json',\n",
       " '2025-02-18--22-37-30__GDP growth.json']"
      ]
     },
     "metadata": {},
     "output_type": "display_data"
    }
   ],
   "source": [
    "list(another_sub_folder)"
   ]
  },
  {
   "cell_type": "code",
   "execution_count": null,
   "metadata": {},
   "outputs": [
    {
     "data": {
      "text/plain": [
       "'data/scoopy/'"
      ]
     },
     "metadata": {},
     "output_type": "display_data"
    }
   ],
   "source": [
    "sub_s_under_data_subfolder"
   ]
  },
  {
   "cell_type": "code",
   "execution_count": null,
   "metadata": {},
   "outputs": [],
   "source": []
  },
  {
   "cell_type": "code",
   "execution_count": null,
   "metadata": {},
   "outputs": [],
   "source": []
  }
 ],
 "metadata": {
  "kernelspec": {
   "display_name": "p10",
   "language": "python",
   "name": "python3"
  },
  "language_info": {
   "codemirror_mode": {
    "name": "ipython",
    "version": 3
   },
   "file_extension": ".py",
   "mimetype": "text/x-python",
   "name": "python",
   "nbconvert_exporter": "python",
   "pygments_lexer": "ipython3",
   "version": "3.10.13"
  }
 },
 "nbformat": 4,
 "nbformat_minor": 2
}
