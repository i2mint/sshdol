{
 "cells": [
  {
   "cell_type": "code",
   "execution_count": null,
   "metadata": {},
   "outputs": [],
   "source": []
  },
  {
   "cell_type": "code",
   "execution_count": null,
   "metadata": {},
   "outputs": [],
   "source": []
  },
  {
   "cell_type": "markdown",
   "metadata": {},
   "source": [
    "# Building tests"
   ]
  },
  {
   "cell_type": "code",
   "execution_count": null,
   "metadata": {},
   "outputs": [],
   "source": [
    "from sshdol import SshFiles\n",
    "from functools import partial \n",
    "\n",
    "# make a bytes files ssh store\n",
    "s = SshFiles(host=SSH_TEST_HOST, rootdir=SSH_TEST_ROOTDIR)\n",
    "empty_test_store(s)\n",
    "\n",
    "assert list(s) == []  # s is empty\n",
    "\n",
    "s['apple'] = b'crumble'  # make an apple file containing b'crumble'\n",
    "assert 'apple' in s  # apple is now in s\n",
    "assert list(s) == ['apple']  # now, s has only one file, apple\n",
    "assert s['apple'] == b'crumble'  # see that the value of s['apple'] is indeed b'crumble'\n",
    "\n",
    "# make a text files ssh store\n",
    "s = SshFiles(encoding='utf-8', host=SSH_TEST_HOST, rootdir=SSH_TEST_ROOTDIR)\n",
    "\n",
    "s['apple.txt'] = 'sauce'  # make an apple file containing 'sauce'\n",
    "assert 'apple.txt' in s  # apple is now in s\n",
    "assert sorted(s) == ['apple', 'apple.txt']  # now, s has only one file, apple\n",
    "assert s['apple'] == 'sauce'  # see that the value of s['apple'] is indeed 'sauce'"
   ]
  },
  {
   "cell_type": "code",
   "execution_count": 3,
   "metadata": {},
   "outputs": [],
   "source": [
    "from sshdol import SshFiles\n",
    "import pytest\n",
    "from sshdol.tests.utils_for_testing import empty_test_store, SSH_TEST_HOST, SSH_TEST_ROOTDIR\n",
    "\n",
    "\n",
    "s = SshFiles(\n",
    "    host=SSH_TEST_HOST,\n",
    "    rootdir=SSH_TEST_ROOTDIR,\n",
    "    max_levels=None,\n",
    "    create_dirs=True,\n",
    ")\n",
    "empty_test_store(s)\n",
    "\n",
    "# Test recursive write with directory creation (unlimited depth)\n",
    "s['level0/level1/level2/file.txt'] = b'deep file content'\n",
    "\n",
    "# Test recursive read\n",
    "assert s['level0/level1/level2/file.txt'] == b'deep file content'\n",
    "\n",
    "# Test recursive iteration (with unlimited depth)\n",
    "all_keys = list(s)\n",
    "assert 'level0/' in all_keys\n",
    "assert 'level0/level1/' in all_keys\n",
    "assert 'level0/level1/level2/' in all_keys\n",
    "assert 'level0/level1/level2/file.txt' in all_keys\n",
    "\n",
    "# Test with limited recursion depth\n",
    "s_limited = SshFiles(\n",
    "    host=SSH_TEST_HOST,\n",
    "    rootdir=SSH_TEST_ROOTDIR,\n",
    "    max_levels=1,  # Only one level of subdirectories\n",
    "    create_dirs=True,\n",
    ")\n",
    "\n",
    "# Should only see first level directories and files\n",
    "limited_keys = list(s_limited)\n",
    "assert 'level0/' in limited_keys\n",
    "assert 'level0/level1/' in limited_keys\n",
    "assert 'level0/level1/level2/' not in limited_keys\n",
    "\n",
    "# Writing at allowed depth should work\n",
    "s_limited['level0/file.txt'] = b'allowed depth content'\n",
    "assert s_limited['level0/file.txt'] == b'allowed depth content'\n",
    "\n",
    "# Test that reading beyond max_levels raises KeyError with appropriate message\n",
    "with pytest.raises(KeyError) as excinfo:\n",
    "    _ = s_limited['level0/level1/level2/file.txt']\n",
    "assert \"Path depth (3) exceeds maximum allowed depth (1)\" in str(excinfo.value)\n",
    "\n",
    "# Test that writing beyond max_levels raises KeyError with appropriate message\n",
    "with pytest.raises(KeyError) as excinfo:\n",
    "    s_limited['level0/level1/file.txt'] = b'beyond max depth'\n",
    "assert \"Path depth (2) exceeds maximum allowed depth (1)\" in str(excinfo.value)\n",
    "\n",
    "# Test with level 0 (only root level)\n",
    "s_root_only = SshFiles(\n",
    "    host=SSH_TEST_HOST,\n",
    "    rootdir=SSH_TEST_ROOTDIR,\n",
    "    max_levels=0,\n",
    ")\n",
    "\n",
    "# Should be able to access files in the root\n",
    "root_keys = list(s_root_only)\n",
    "assert 'level0/' in root_keys\n",
    "assert 'level0/level1/' not in root_keys\n",
    "\n",
    "# Test that accessing even one level deep raises error\n",
    "with pytest.raises(KeyError) as excinfo:\n",
    "    _ = s_root_only['level0/file.txt']\n",
    "assert \"Path depth (1) exceeds maximum allowed depth (0)\" in str(excinfo.value)\n",
    "\n",
    "# Test membership with recursion\n",
    "assert 'level0/level1/level2/file.txt' in s  # Unlimited depth store\n",
    "assert 'level0/level1/level2/nonexistent.txt' not in s\n",
    "\n"
   ]
  },
  {
   "cell_type": "code",
   "execution_count": 4,
   "metadata": {},
   "outputs": [],
   "source": [
    "\n",
    "# Test membership check also respects max_levels\n",
    "\n",
    "assert 'level0/level1/file.txt' not in s_limited\n",
    "\n",
    "# Test length with recursion\n",
    "# Length should include all files and directories up to max_levels\n",
    "assert len(s) > len(s_limited)\n"
   ]
  },
  {
   "cell_type": "code",
   "execution_count": 8,
   "metadata": {},
   "outputs": [
    {
     "data": {
      "text/plain": [
       "False"
      ]
     },
     "execution_count": 8,
     "metadata": {},
     "output_type": "execute_result"
    }
   ],
   "source": [
    "'level0/level1/file.txt' in s_limited"
   ]
  },
  {
   "cell_type": "code",
   "execution_count": 12,
   "metadata": {},
   "outputs": [
    {
     "data": {
      "text/plain": [
       "['level0/',\n",
       " 'level0/file.txt',\n",
       " 'level0/level1/',\n",
       " 'level0/level1/level2/',\n",
       " 'level0/level1/level2/file.txt']"
      ]
     },
     "execution_count": 12,
     "metadata": {},
     "output_type": "execute_result"
    }
   ],
   "source": [
    "list(s)"
   ]
  },
  {
   "cell_type": "code",
   "execution_count": 10,
   "metadata": {},
   "outputs": [
    {
     "data": {
      "text/plain": [
       "'/root/data/tests/sshdol'"
      ]
     },
     "execution_count": 10,
     "metadata": {},
     "output_type": "execute_result"
    }
   ],
   "source": [
    "s_limited._rootdir"
   ]
  },
  {
   "cell_type": "code",
   "execution_count": 5,
   "metadata": {},
   "outputs": [
    {
     "data": {
      "text/plain": [
       "['level0/']"
      ]
     },
     "execution_count": 5,
     "metadata": {},
     "output_type": "execute_result"
    }
   ],
   "source": [
    "root_keys = list(s_root_only)\n",
    "root_keys"
   ]
  },
  {
   "cell_type": "code",
   "execution_count": null,
   "metadata": {},
   "outputs": [],
   "source": [
    "from sshdol import SshFiles\n",
    "\n",
    "from sshdol.tests.utils_for_testing import empty_test_store, SSH_TEST_HOST, SSH_TEST_ROOTDIR\n",
    "\n",
    "\n",
    "s = SshFiles(\n",
    "    host=SSH_TEST_HOST,\n",
    "    rootdir=SSH_TEST_ROOTDIR,\n",
    "    max_levels=None,\n",
    "    create_dirs=True,\n",
    ")\n",
    "empty_test_store(s)\n",
    "\n",
    "# Test recursive write with directory creation\n",
    "s['level0/level1/level2/file.txt'] = b'deep file content'\n"
   ]
  },
  {
   "cell_type": "code",
   "execution_count": 2,
   "metadata": {},
   "outputs": [
    {
     "ename": "KeyError",
     "evalue": "'Path depth (3) exceeds maximum allowed depth (1): level0/level1/level2/file.txt'",
     "output_type": "error",
     "traceback": [
      "\u001b[0;31m---------------------------------------------------------------------------\u001b[0m",
      "\u001b[0;31mKeyError\u001b[0m                                  Traceback (most recent call last)",
      "Cell \u001b[0;32mIn[2], line 7\u001b[0m\n\u001b[1;32m      1\u001b[0m s_limited \u001b[38;5;241m=\u001b[39m SshFiles(\n\u001b[1;32m      2\u001b[0m     host\u001b[38;5;241m=\u001b[39mSSH_TEST_HOST,\n\u001b[1;32m      3\u001b[0m     rootdir\u001b[38;5;241m=\u001b[39mSSH_TEST_ROOTDIR,\n\u001b[1;32m      4\u001b[0m     max_levels\u001b[38;5;241m=\u001b[39m\u001b[38;5;241m1\u001b[39m,  \u001b[38;5;66;03m# Only one level of subdirectories\u001b[39;00m\n\u001b[1;32m      5\u001b[0m )\n\u001b[0;32m----> 7\u001b[0m \u001b[43ms_limited\u001b[49m\u001b[43m[\u001b[49m\u001b[38;5;124;43m'\u001b[39;49m\u001b[38;5;124;43mlevel0/level1/level2/file.txt\u001b[39;49m\u001b[38;5;124;43m'\u001b[39;49m\u001b[43m]\u001b[49m\n",
      "File \u001b[0;32m~/Dropbox/py/proj/i/dols/sshdol/sshdol/base.py:310\u001b[0m, in \u001b[0;36mSshFilesReader.__getitem__\u001b[0;34m(self, k)\u001b[0m\n\u001b[1;32m    307\u001b[0m path \u001b[38;5;241m=\u001b[39m normalize_path(k)\n\u001b[1;32m    309\u001b[0m \u001b[38;5;66;03m# Check if path exceeds allowed depth\u001b[39;00m\n\u001b[0;32m--> 310\u001b[0m \u001b[38;5;28;43mself\u001b[39;49m\u001b[38;5;241;43m.\u001b[39;49m\u001b[43m_check_path_depth\u001b[49m\u001b[43m(\u001b[49m\u001b[43mpath\u001b[49m\u001b[43m)\u001b[49m\n\u001b[1;32m    312\u001b[0m \u001b[38;5;66;03m# If the key contains slashes, it might be a nested path\u001b[39;00m\n\u001b[1;32m    313\u001b[0m \u001b[38;5;28;01mif\u001b[39;00m \u001b[38;5;124m'\u001b[39m\u001b[38;5;124m/\u001b[39m\u001b[38;5;124m'\u001b[39m \u001b[38;5;129;01min\u001b[39;00m path:\n",
      "File \u001b[0;32m~/Dropbox/py/proj/i/dols/sshdol/sshdol/base.py:296\u001b[0m, in \u001b[0;36mSshFilesReader._check_path_depth\u001b[0;34m(self, path)\u001b[0m\n\u001b[1;32m    293\u001b[0m depth \u001b[38;5;241m=\u001b[39m normalized_path\u001b[38;5;241m.\u001b[39mcount(\u001b[38;5;124m'\u001b[39m\u001b[38;5;124m/\u001b[39m\u001b[38;5;124m'\u001b[39m)\n\u001b[1;32m    295\u001b[0m \u001b[38;5;28;01mif\u001b[39;00m depth \u001b[38;5;241m>\u001b[39m \u001b[38;5;28mself\u001b[39m\u001b[38;5;241m.\u001b[39m_max_levels:\n\u001b[0;32m--> 296\u001b[0m     \u001b[38;5;28;01mraise\u001b[39;00m \u001b[38;5;167;01mKeyError\u001b[39;00m(\n\u001b[1;32m    297\u001b[0m         \u001b[38;5;124mf\u001b[39m\u001b[38;5;124m\"\u001b[39m\u001b[38;5;124mPath depth (\u001b[39m\u001b[38;5;132;01m{\u001b[39;00mdepth\u001b[38;5;132;01m}\u001b[39;00m\u001b[38;5;124m) exceeds maximum allowed depth (\u001b[39m\u001b[38;5;132;01m{\u001b[39;00m\u001b[38;5;28mself\u001b[39m\u001b[38;5;241m.\u001b[39m_max_levels\u001b[38;5;132;01m}\u001b[39;00m\u001b[38;5;124m): \u001b[39m\u001b[38;5;132;01m{\u001b[39;00mpath\u001b[38;5;132;01m}\u001b[39;00m\u001b[38;5;124m\"\u001b[39m\n\u001b[1;32m    298\u001b[0m     )\n\u001b[1;32m    299\u001b[0m \u001b[38;5;28;01mreturn\u001b[39;00m \u001b[38;5;28;01mTrue\u001b[39;00m\n",
      "\u001b[0;31mKeyError\u001b[0m: 'Path depth (3) exceeds maximum allowed depth (1): level0/level1/level2/file.txt'"
     ]
    }
   ],
   "source": [
    "s_limited = SshFiles(\n",
    "    host=SSH_TEST_HOST,\n",
    "    rootdir=SSH_TEST_ROOTDIR,\n",
    "    max_levels=1,  # Only one level of subdirectories\n",
    ")\n",
    "\n",
    "s_limited['level0/level1/level2/file.txt']"
   ]
  },
  {
   "cell_type": "code",
   "execution_count": 12,
   "metadata": {},
   "outputs": [],
   "source": [
    "from sshdol import SshFiles\n",
    "\n",
    "from sshdol.tests.utils_for_testing import empty_test_store, SSH_TEST_HOST, SSH_TEST_ROOTDIR\n",
    "\n",
    "\n",
    "s = SshFiles(\n",
    "    host=SSH_TEST_HOST,\n",
    "    rootdir=SSH_TEST_ROOTDIR,\n",
    "    max_levels=None,\n",
    "    create_dirs=True,\n",
    ")\n",
    "empty_test_store(s)\n",
    "\n",
    "# Test recursive write with directory creation\n",
    "s['level0/level1/level2/file.txt'] = b'deep file content'\n",
    "\n",
    "# Test recursive read\n",
    "assert s['level0/level1/level2/file.txt'] == b'deep file content'\n",
    "\n",
    "# Test recursive iteration (with unlimited depth)\n",
    "all_keys = list(s)\n",
    "assert 'level0/' in all_keys\n",
    "assert 'level0/level1/' in all_keys\n",
    "assert 'level0/level1/level2/' in all_keys\n",
    "assert 'level0/level1/level2/file.txt' in all_keys\n",
    "\n",
    "# Test with limited recursion depth\n",
    "s_limited = SshFiles(\n",
    "    host=SSH_TEST_HOST,\n",
    "    rootdir=SSH_TEST_ROOTDIR,\n",
    "    max_levels=1,  # Only one level of subdirectories\n",
    ")\n",
    "\n",
    "# Should only see first level directories and files\n",
    "limited_keys = list(s_limited)\n",
    "assert 'level0/' in limited_keys\n",
    "assert 'level0/level1/' in limited_keys\n",
    "assert 'level0/level1/level2/' not in limited_keys\n",
    "\n",
    "# But we can still access deeper paths directly\n",
    "assert s_limited['level0/level1/level2/file.txt'] == b'deep file content'\n",
    "\n",
    "# Test membership with recursion\n",
    "assert 'level0/level1/level2/file.txt' in s\n",
    "assert 'level0/level1/level2/nonexistent.txt' not in s\n",
    "\n",
    "# Test length with recursion\n",
    "# Length should include all files and directories up to max_levels\n",
    "assert len(s) > len(s_limited)\n"
   ]
  },
  {
   "cell_type": "code",
   "execution_count": 13,
   "metadata": {},
   "outputs": [],
   "source": [
    "s_limited['level0/level1/level2/another_file.txt'] = b'another file content'"
   ]
  },
  {
   "cell_type": "code",
   "execution_count": 14,
   "metadata": {},
   "outputs": [
    {
     "data": {
      "text/plain": [
       "b'another file content'"
      ]
     },
     "execution_count": 14,
     "metadata": {},
     "output_type": "execute_result"
    }
   ],
   "source": [
    "s_limited['level0/level1/level2/another_file.txt']"
   ]
  },
  {
   "cell_type": "code",
   "execution_count": 8,
   "metadata": {},
   "outputs": [],
   "source": [
    "\n",
    "# Test recursive iteration (with unlimited depth)\n",
    "all_keys = list(s)\n",
    "assert 'level1/' in all_keys\n",
    "assert 'level1/level2/' in all_keys\n",
    "assert 'level1/level2/level3/' in all_keys\n",
    "assert 'level1/level2/level3/file.txt' in all_keys\n"
   ]
  },
  {
   "cell_type": "code",
   "execution_count": 9,
   "metadata": {},
   "outputs": [],
   "source": [
    "\n",
    "# Test with limited recursion depth\n",
    "s_limited = SshFiles(\n",
    "    host=SSH_TEST_HOST,\n",
    "    rootdir=SSH_TEST_ROOTDIR,\n",
    "    max_levels=1,  # Only one level of subdirectories\n",
    ")\n"
   ]
  },
  {
   "cell_type": "code",
   "execution_count": null,
   "metadata": {},
   "outputs": [
    {
     "ename": "AssertionError",
     "evalue": "",
     "output_type": "error",
     "traceback": [
      "\u001b[0;31m---------------------------------------------------------------------------\u001b[0m",
      "\u001b[0;31mAssertionError\u001b[0m                            Traceback (most recent call last)",
      "Cell \u001b[0;32mIn[10], line 4\u001b[0m\n\u001b[1;32m      2\u001b[0m limited_keys \u001b[38;5;241m=\u001b[39m \u001b[38;5;28mlist\u001b[39m(s_limited)\n\u001b[1;32m      3\u001b[0m \u001b[38;5;28;01massert\u001b[39;00m \u001b[38;5;124m'\u001b[39m\u001b[38;5;124mlevel1/\u001b[39m\u001b[38;5;124m'\u001b[39m \u001b[38;5;129;01min\u001b[39;00m limited_keys\n\u001b[0;32m----> 4\u001b[0m \u001b[38;5;28;01massert\u001b[39;00m \u001b[38;5;124m'\u001b[39m\u001b[38;5;124mlevel1/level2/\u001b[39m\u001b[38;5;124m'\u001b[39m \u001b[38;5;129;01mnot\u001b[39;00m \u001b[38;5;129;01min\u001b[39;00m limited_keys\n",
      "\u001b[0;31mAssertionError\u001b[0m: "
     ]
    }
   ],
   "source": [
    "# Should only see first level directories and files\n",
    "limited_keys = list(s_limited)\n",
    "assert 'level1/' in limited_keys\n",
    "assert 'level1/level2/' in limited_keys\n",
    "assert 'level1/level2/level3' in limited_keys\n"
   ]
  },
  {
   "cell_type": "code",
   "execution_count": 11,
   "metadata": {},
   "outputs": [
    {
     "data": {
      "text/plain": [
       "['level1/', 'level1/level2/']"
      ]
     },
     "execution_count": 11,
     "metadata": {},
     "output_type": "execute_result"
    }
   ],
   "source": [
    "limited_keys"
   ]
  },
  {
   "cell_type": "code",
   "execution_count": null,
   "metadata": {},
   "outputs": [],
   "source": [
    "\n",
    "# # But we can still access deeper paths directly\n",
    "# assert s_limited['level1/level2/level3/file.txt'] == b'deep file content'\n",
    "\n",
    "# # Test membership with recursion\n",
    "# assert 'level1/level2/level3/file.txt' in s\n",
    "# assert 'level1/level2/level3/nonexistent.txt' not in s\n",
    "\n",
    "# # Test length with recursion\n",
    "# # Length should include all files and directories up to max_levels\n",
    "# assert len(s) > len(s_limited)\n"
   ]
  },
  {
   "cell_type": "code",
   "execution_count": null,
   "metadata": {},
   "outputs": [],
   "source": []
  },
  {
   "cell_type": "code",
   "execution_count": null,
   "metadata": {},
   "outputs": [],
   "source": []
  },
  {
   "cell_type": "code",
   "execution_count": null,
   "metadata": {},
   "outputs": [],
   "source": []
  },
  {
   "cell_type": "code",
   "execution_count": null,
   "metadata": {},
   "outputs": [],
   "source": [
    "from sshdol import SshFiles\n",
    "from dol import TextFiles\n",
    "\n",
    "s = SshFiles(host=SSH_TEST_HOST, rootdir=SSH_TEST_ROOTDIR, encoding='utf-8')\n",
    "\n",
    "empty_test_store(s)\n",
    "\n",
    "assert list(s) == []  # s is empty\n",
    "s['apple.txt'] = 'sauce'  # make an apple file containing 'sauce'\n",
    "assert 'apple.txt' in s  # apple is now in s\n",
    "assert sorted(s) == ['apple', 'apple.txt']  # now, s has only one file, apple\n",
    "assert s['apple'] == 'sauce'  # see that the value of s['apple'] is indeed 'sauce'"
   ]
  },
  {
   "cell_type": "code",
   "execution_count": null,
   "metadata": {},
   "outputs": [],
   "source": []
  },
  {
   "cell_type": "code",
   "execution_count": null,
   "metadata": {},
   "outputs": [],
   "source": []
  },
  {
   "cell_type": "code",
   "execution_count": null,
   "metadata": {},
   "outputs": [],
   "source": []
  },
  {
   "cell_type": "markdown",
   "metadata": {},
   "source": [
    "# Getting a bunch of data from a server"
   ]
  },
  {
   "cell_type": "code",
   "execution_count": null,
   "metadata": {},
   "outputs": [],
   "source": [
    "from sshdol import SshFiles\n",
    "\n",
    "s = SshFiles(host=\"thorwhalen\", rootdir=\"/root/.config/mood/news/searches\")\n"
   ]
  },
  {
   "cell_type": "code",
   "execution_count": null,
   "metadata": {},
   "outputs": [
    {
     "data": {
      "text/plain": [
       "['newsdata/', 'yahoo_finance_headlines/', 'yahoo_finance/']"
      ]
     },
     "metadata": {},
     "output_type": "display_data"
    }
   ],
   "source": [
    "list(s)"
   ]
  },
  {
   "cell_type": "code",
   "execution_count": null,
   "metadata": {},
   "outputs": [
    {
     "data": {
      "text/plain": [
       "['2025-03-03/',\n",
       " '2025-03-02/',\n",
       " '2025-02-20/',\n",
       " '2025-03-01/',\n",
       " '2025-02-19/',\n",
       " '2025-02-25/',\n",
       " '2025-03-04/',\n",
       " '2025-03-05/',\n",
       " '2025-03-08/',\n",
       " '2025-03-07/',\n",
       " '2025-03-09/',\n",
       " '2025-03-06/',\n",
       " '2025-02-24/',\n",
       " '2025-02-26/',\n",
       " '2025-02-21/',\n",
       " '2025-02-28/',\n",
       " '2025-02-27/',\n",
       " '2025-03-10/',\n",
       " '2025-02-22/',\n",
       " '2025-02-23/']"
      ]
     },
     "metadata": {},
     "output_type": "display_data"
    }
   ],
   "source": [
    "newsdata = s['newsdata/']\n",
    "list(newsdata)"
   ]
  },
  {
   "cell_type": "code",
   "execution_count": null,
   "metadata": {},
   "outputs": [
    {
     "data": {
      "text/plain": [
       "['misc.ipynb', 'data/', 'py/', 'scripts/']"
      ]
     },
     "metadata": {},
     "output_type": "display_data"
    }
   ],
   "source": [
    "from sshdol import SshFiles\n",
    "\n",
    "s = SshFiles(host=\"thorwhalen\")\n",
    "\n",
    "list(s)"
   ]
  },
  {
   "cell_type": "code",
   "execution_count": null,
   "metadata": {},
   "outputs": [
    {
     "data": {
      "text/plain": [
       "'data'"
      ]
     },
     "metadata": {},
     "output_type": "display_data"
    }
   ],
   "source": [
    "sub_s_under_data_subfolder = s['data/']\n",
    "sub_s_under_data_subfolder._rootdir"
   ]
  },
  {
   "cell_type": "code",
   "execution_count": null,
   "metadata": {},
   "outputs": [
    {
     "data": {
      "text/plain": [
       "['financial_news_search_words.json', 'scoopy/']"
      ]
     },
     "metadata": {},
     "output_type": "display_data"
    }
   ],
   "source": [
    "list(sub_s_under_data_subfolder)"
   ]
  },
  {
   "cell_type": "code",
   "execution_count": null,
   "metadata": {},
   "outputs": [
    {
     "data": {
      "text/plain": [
       "'data/scoopy'"
      ]
     },
     "metadata": {},
     "output_type": "display_data"
    }
   ],
   "source": [
    "another_sub_folder = sub_s_under_data_subfolder['scoopy/']\n",
    "another_sub_folder._rootdir"
   ]
  },
  {
   "cell_type": "code",
   "execution_count": null,
   "metadata": {},
   "outputs": [
    {
     "data": {
      "text/plain": [
       "['2025-02-18--22-37-40__Recession fears.json',\n",
       " '2025-02-18--22-37-26__Interest rates.json',\n",
       " '2025-02-18--22-37-30__Unemployment rate.json',\n",
       " '2025-02-18--22-37-38__Election results.json',\n",
       " '2025-02-18--22-37-44__Risk appetite.json',\n",
       " '2025-02-18--22-37-31__Consumer confidence.json',\n",
       " '2025-02-18--22-37-29__Earnings report.json',\n",
       " '2025-02-18--22-37-36__Trade war.json',\n",
       " '2025-02-18--22-37-38__Brexit.json',\n",
       " '2025-02-18--22-37-27__Inflation.json',\n",
       " '2025-02-18--22-37-41__Black Swan event.json',\n",
       " '2025-02-18--22-37-34__Stock market rally.json',\n",
       " '2025-02-18--22-37-37__Sanctions.json',\n",
       " '2025-02-18--22-37-34__Market correction.json',\n",
       " '2025-02-18--22-30-51__Interest rates.json',\n",
       " '2025-02-18--22-37-40__Market volatility.json',\n",
       " '2025-02-18--22-37-28__Federal Reserve.json',\n",
       " '2025-02-18--22-37-35__Oil prices.json',\n",
       " '2025-02-18--22-37-39__Geopolitical tensions.json',\n",
       " '2025-02-18--22-37-30__GDP growth.json']"
      ]
     },
     "metadata": {},
     "output_type": "display_data"
    }
   ],
   "source": [
    "list(another_sub_folder)"
   ]
  },
  {
   "cell_type": "code",
   "execution_count": null,
   "metadata": {},
   "outputs": [
    {
     "data": {
      "text/plain": [
       "'data/scoopy/'"
      ]
     },
     "metadata": {},
     "output_type": "display_data"
    }
   ],
   "source": [
    "sub_s_under_data_subfolder"
   ]
  },
  {
   "cell_type": "code",
   "execution_count": null,
   "metadata": {},
   "outputs": [],
   "source": []
  },
  {
   "cell_type": "code",
   "execution_count": null,
   "metadata": {},
   "outputs": [],
   "source": []
  }
 ],
 "metadata": {
  "kernelspec": {
   "display_name": "p10",
   "language": "python",
   "name": "python3"
  },
  "language_info": {
   "codemirror_mode": {
    "name": "ipython",
    "version": 3
   },
   "file_extension": ".py",
   "mimetype": "text/x-python",
   "name": "python",
   "nbconvert_exporter": "python",
   "pygments_lexer": "ipython3",
   "version": "3.10.13"
  }
 },
 "nbformat": 4,
 "nbformat_minor": 2
}
